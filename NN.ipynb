{
 "cells": [
  {
   "cell_type": "code",
   "execution_count": 6,
   "metadata": {
    "collapsed": false,
    "deletable": true,
    "editable": true
   },
   "outputs": [],
   "source": [
    "import numpy as np\n",
    "\n",
    "class NeuralNetwork(object):\n",
    "    def __init__(self, layers, random_seed):\n",
    "        self.layers = layers\n",
    "        self.random_seed = random_seed\n",
    "        for i, layer in enumerate(self.layers):\n",
    "            setattr(layer, 'random_seed', self.random_seed+i)\n",
    "            layer.initialize_weights()\n",
    "\n",
    "    def forwardpass(self, X):\n",
    "        \"\"\" Calculate an output Y for the given input X. \"\"\"\n",
    "        X_next = X\n",
    "        for layer in self.layers:\n",
    "            X_next = layer.fprop(X_next)\n",
    "        prediction = X_next\n",
    "        return prediction\n",
    "\n",
    "    def loss(self, prediction, Y):\n",
    "        \"\"\" Calculate error on the given data. \"\"\"\n",
    "        loss = 0.5 * (Y - prediction) ** 2\n",
    "        return -1.0 * (Y - prediction)\n",
    "\n",
    "    def backpropogate(self, loss):\n",
    "        \"\"\" Calculate an output Y for the given input X. \"\"\"\n",
    "        loss_next = loss\n",
    "        for layer in reversed(self.layers):\n",
    "            loss_next = layer.bprop(loss_next)\n",
    "        return loss\n",
    "\n",
    "class Layer(object):\n",
    "    def _setup(self, input_shape):\n",
    "        \"\"\" Setup layer with parameters that are unknown at __init__(). \"\"\"\n",
    "        pass\n",
    "\n",
    "    def fprop(self, input):\n",
    "        \"\"\" Calculate layer output for given input (forward propagation). \"\"\"\n",
    "        raise NotImplementedError()\n",
    "\n",
    "    def bprop(self, output_grad):\n",
    "        \"\"\" Calculate input gradient. \"\"\"\n",
    "        raise NotImplementedError()\n",
    "\n",
    "# Break out activations as separate layers? As in Keras?\n",
    "class Linear(Layer):\n",
    "\n",
    "    random_seed = None\n",
    "\n",
    "    def __init__(self, n_in, n_out,\n",
    "                 activation_function):\n",
    "        self.n_in = n_in\n",
    "        self.n_out = n_out\n",
    "        self.iteration = 0\n",
    "        self.activation_function = activation_function\n",
    "\n",
    "    def initialize_weights(self):\n",
    "        np.random.seed(seed=self.random_seed)\n",
    "        self.W = np.random.normal(size=(self.n_in, self.n_out))\n",
    "\n",
    "    def fprop(self, layer_input):\n",
    "        self.layer_input = layer_input\n",
    "        self.activation_input = np.dot(layer_input, self.W)\n",
    "        return self.activation_function(self.activation_input, bprop=False)\n",
    "\n",
    "    def bprop(self, layer_gradient):\n",
    "        dOutdActivationInput = self.activation_function(self.activation_input, bprop=True)\n",
    "        dLayerInputdActivationInput = layer_gradient * dOutdActivationInput\n",
    "        dActivationOutputdActivationInput = self.layer_input.T\n",
    "        output_grad = np.dot(dLayerInputdActivationInput, self.W.T)\n",
    "        weight_update = np.dot(dActivationOutputdActivationInput, dLayerInputdActivationInput)\n",
    "        W_new = self.W - weight_update\n",
    "        self.W = W_new\n",
    "        self.iteration += 1\n",
    "        return output_grad\n",
    "\n",
    "def sigmoid(x, bprop=False):\n",
    "    if bprop:\n",
    "        s = sigmoid(x)\n",
    "        return s*(1-s)\n",
    "    else:\n",
    "        return 1.0/(1.0+np.exp(-x))\n",
    "\n",
    "# Not sure how I'm going to do this...\n",
    "class TwoLayerNetwork(NeuralNetwork):\n",
    "    '''\n",
    "    Class for a neural network with only one hidden layer.\n",
    "    '''\n",
    "    def __init__(self, layers, random_seed):\n",
    "        NeuralNetwork.__init__(self, layers, random_seed)\n",
    "\n",
    "    def return_layer_outputs(self, X):\n",
    "        \"\"\" Calculate an output Y for the given input X. \"\"\"\n",
    "        X_next = X\n",
    "        layer_outputs = []\n",
    "        for layer in self.layers:\n",
    "            X_next = layer.fprop(X_next)\n",
    "            # Collapse across observations\n",
    "            np.mean(X_next, axis=0)\n",
    "            layer_outputs.append(X_next)\n",
    "        return layer_outputs\n",
    "\n",
    "    def return_weights(self, X):\n",
    "        \"\"\" Calculate an output Y for the given input X. \"\"\"\n",
    "        weights = [layer.W for layer in self.layers]\n",
    "        return weights"
   ]
  },
  {
   "cell_type": "code",
   "execution_count": 7,
   "metadata": {
    "collapsed": false,
    "deletable": true,
    "editable": true
   },
   "outputs": [],
   "source": [
    "layer1 = Linear(n_in=10, n_out=5, activation_function=sigmoid)\n",
    "layer2 = Linear(n_in=5, n_out=1, activation_function=sigmoid)\n",
    "\n",
    "nn = TwoLayerNetwork(layers=[layer1, layer2], random_seed=823)\n",
    "\n",
    "nn\n",
    "\n",
    "X = np.random.randn(10, 10)\n",
    "\n",
    "first_weights = nn.return_weights(X)[0]"
   ]
  },
  {
   "cell_type": "code",
   "execution_count": 21,
   "metadata": {
    "collapsed": false,
    "deletable": true,
    "editable": true
   },
   "outputs": [
    {
     "data": {
      "text/plain": [
       "array([[ 1.00644841,  0.88649247,  0.67753322,  1.01741548,  1.18971463],\n",
       "       [ 1.27389194,  0.84260879,  0.88460243,  1.16664166,  0.89296368],\n",
       "       [ 0.79651676,  1.18825594,  1.21733275,  0.86498883,  1.20110199],\n",
       "       [ 0.9522418 ,  0.95899815,  1.04045733,  1.02524956,  1.06629017],\n",
       "       [ 0.98521245,  1.49105541,  1.0447856 ,  0.76285711,  0.61836877],\n",
       "       [ 1.23871817,  0.74253116,  0.5       ,  1.13712454,  1.5       ],\n",
       "       [ 1.02340424,  0.96924283,  0.92467579,  0.84612442,  1.22983083],\n",
       "       [ 1.05861927,  1.07481473,  1.36508367,  0.85542893,  0.67962392],\n",
       "       [ 0.8870206 ,  0.76479964,  1.08442148,  0.98325262,  1.16943518],\n",
       "       [ 0.63574116,  1.17146179,  1.00462037,  0.59158673,  0.98949977]])"
      ]
     },
     "execution_count": 21,
     "metadata": {},
     "output_type": "execute_result"
    }
   ],
   "source": [
    "mi = np.amin(first_weights)\n",
    "ma = np.amax(first_weights)\n",
    "(first_weights - mi) / (ma - mi) + 0.5"
   ]
  },
  {
   "cell_type": "code",
   "execution_count": 12,
   "metadata": {
    "collapsed": false,
    "deletable": true,
    "editable": true
   },
   "outputs": [
    {
     "data": {
      "text/plain": [
       "2.5969871334402539"
      ]
     },
     "execution_count": 12,
     "metadata": {},
     "output_type": "execute_result"
    }
   ],
   "source": [
    "np.amax(nn.return_weights(X)[0])"
   ]
  },
  {
   "cell_type": "code",
   "execution_count": 37,
   "metadata": {
    "collapsed": false,
    "deletable": true,
    "editable": true
   },
   "outputs": [
    {
     "data": {
      "text/plain": [
       "array([ 0.52956117,  0.40004239,  0.58557413,  0.66468608,  0.52275286])"
      ]
     },
     "execution_count": 37,
     "metadata": {},
     "output_type": "execute_result"
    }
   ],
   "source": [
    "np.mean(nn.return_layer_outputs(X)[0], axis=0)"
   ]
  },
  {
   "cell_type": "code",
   "execution_count": 45,
   "metadata": {
    "collapsed": false,
    "deletable": true,
    "editable": true
   },
   "outputs": [],
   "source": [
    "%matplotlib inline\n",
    "import datetime\n",
    "import random\n",
    "from matplotlib.backends.backend_agg import FigureCanvasAgg as FigureCanvas\n",
    "from matplotlib.figure import Figure\n",
    "from matplotlib.dates import DateFormatter\n",
    "\n",
    "fig=Figure()\n",
    "ax=fig.add_subplot(111)\n",
    "x=[]\n",
    "y=[]\n",
    "now=datetime.datetime.now()\n",
    "delta=datetime.timedelta(days=1)\n",
    "for i in range(10):\n",
    "    x.append(now)\n",
    "    now+=delta\n",
    "    y.append(random.randint(0, 1000))\n",
    "ax.plot_date(x, y, '-')\n",
    "ax.xaxis.set_major_formatter(DateFormatter('%Y-%m-%d'))\n",
    "fig.autofmt_xdate()\n",
    "canvas=FigureCanvas(fig)"
   ]
  },
  {
   "cell_type": "code",
   "execution_count": 48,
   "metadata": {
    "collapsed": false,
    "deletable": true,
    "editable": true
   },
   "outputs": [],
   "source": [
    "canvas.print_png('test.png')"
   ]
  },
  {
   "cell_type": "code",
   "execution_count": 7,
   "metadata": {
    "collapsed": true,
    "deletable": true,
    "editable": true
   },
   "outputs": [],
   "source": [
    "from sklearn.datasets import make_classification\n",
    "import numpy as np\n",
    "import matplotlib"
   ]
  },
  {
   "cell_type": "code",
   "execution_count": 45,
   "metadata": {
    "collapsed": true,
    "deletable": true,
    "editable": true
   },
   "outputs": [],
   "source": [
    "X1, Y1 = make_classification(n_features=3, \n",
    "                             n_redundant=0, \n",
    "                             n_informative=1,\n",
    "                             n_clusters_per_class=1)"
   ]
  },
  {
   "cell_type": "code",
   "execution_count": 46,
   "metadata": {
    "collapsed": false,
    "deletable": true,
    "editable": true
   },
   "outputs": [
    {
     "data": {
      "text/plain": [
       "(100, 1)"
      ]
     },
     "execution_count": 46,
     "metadata": {},
     "output_type": "execute_result"
    }
   ],
   "source": [
    "Y1.reshape(100,1).shape"
   ]
  },
  {
   "cell_type": "code",
   "execution_count": 47,
   "metadata": {
    "collapsed": false,
    "deletable": true,
    "editable": true
   },
   "outputs": [
    {
     "data": {
      "text/plain": [
       "['X0', 'X1', 'X2', 'Y']"
      ]
     },
     "execution_count": 47,
     "metadata": {},
     "output_type": "execute_result"
    }
   ],
   "source": [
    "x_cols = ['X' + str(x) for x in range(3)]\n",
    "all_cols = x_cols + [\"Y\"]\n",
    "all_cols"
   ]
  },
  {
   "cell_type": "code",
   "execution_count": 48,
   "metadata": {
    "collapsed": false,
    "deletable": true,
    "editable": true
   },
   "outputs": [],
   "source": [
    "df = pd.DataFrame(np.concatenate((X1, Y1.reshape(100,1)), axis=1), columns=all_cols)"
   ]
  },
  {
   "cell_type": "code",
   "execution_count": 49,
   "metadata": {
    "collapsed": false,
    "deletable": true,
    "editable": true
   },
   "outputs": [
    {
     "data": {
      "text/html": [
       "<div>\n",
       "<table border=\"1\" class=\"dataframe\">\n",
       "  <thead>\n",
       "    <tr style=\"text-align: right;\">\n",
       "      <th></th>\n",
       "      <th>X0</th>\n",
       "      <th>X1</th>\n",
       "      <th>X2</th>\n",
       "      <th>Y</th>\n",
       "    </tr>\n",
       "  </thead>\n",
       "  <tbody>\n",
       "    <tr>\n",
       "      <th>count</th>\n",
       "      <td>100.000000</td>\n",
       "      <td>100.000000</td>\n",
       "      <td>100.000000</td>\n",
       "      <td>100.000000</td>\n",
       "    </tr>\n",
       "    <tr>\n",
       "      <th>mean</th>\n",
       "      <td>1.511731</td>\n",
       "      <td>1.344116</td>\n",
       "      <td>1.539174</td>\n",
       "      <td>0.500000</td>\n",
       "    </tr>\n",
       "    <tr>\n",
       "      <th>std</th>\n",
       "      <td>0.192096</td>\n",
       "      <td>0.293248</td>\n",
       "      <td>0.191122</td>\n",
       "      <td>0.502519</td>\n",
       "    </tr>\n",
       "    <tr>\n",
       "      <th>min</th>\n",
       "      <td>1.000000</td>\n",
       "      <td>1.000000</td>\n",
       "      <td>1.000000</td>\n",
       "      <td>0.000000</td>\n",
       "    </tr>\n",
       "    <tr>\n",
       "      <th>25%</th>\n",
       "      <td>1.365022</td>\n",
       "      <td>1.099991</td>\n",
       "      <td>1.398832</td>\n",
       "      <td>0.000000</td>\n",
       "    </tr>\n",
       "    <tr>\n",
       "      <th>50%</th>\n",
       "      <td>1.504772</td>\n",
       "      <td>1.193656</td>\n",
       "      <td>1.546733</td>\n",
       "      <td>0.500000</td>\n",
       "    </tr>\n",
       "    <tr>\n",
       "      <th>75%</th>\n",
       "      <td>1.627565</td>\n",
       "      <td>1.571031</td>\n",
       "      <td>1.669257</td>\n",
       "      <td>1.000000</td>\n",
       "    </tr>\n",
       "    <tr>\n",
       "      <th>max</th>\n",
       "      <td>2.000000</td>\n",
       "      <td>2.000000</td>\n",
       "      <td>2.000000</td>\n",
       "      <td>1.000000</td>\n",
       "    </tr>\n",
       "  </tbody>\n",
       "</table>\n",
       "</div>"
      ],
      "text/plain": [
       "               X0          X1          X2           Y\n",
       "count  100.000000  100.000000  100.000000  100.000000\n",
       "mean     1.511731    1.344116    1.539174    0.500000\n",
       "std      0.192096    0.293248    0.191122    0.502519\n",
       "min      1.000000    1.000000    1.000000    0.000000\n",
       "25%      1.365022    1.099991    1.398832    0.000000\n",
       "50%      1.504772    1.193656    1.546733    0.500000\n",
       "75%      1.627565    1.571031    1.669257    1.000000\n",
       "max      2.000000    2.000000    2.000000    1.000000"
      ]
     },
     "execution_count": 49,
     "metadata": {},
     "output_type": "execute_result"
    }
   ],
   "source": [
    "from sklearn.preprocessing import MinMaxScaler\n",
    "mms = MinMaxScaler(feature_range=(1,2))\n",
    "df[x_cols] = mms.fit_transform(df[x_cols])\n",
    "df.describe()"
   ]
  },
  {
   "cell_type": "code",
   "execution_count": 8,
   "metadata": {
    "collapsed": true,
    "deletable": true,
    "editable": true
   },
   "outputs": [],
   "source": [
    "layers = [[1.248, 1.073], [0.588, 0.63, 0.42], [0.187]]\n",
    "coords = [{'x': 100.0, 'y': 100.0, 'layer': 0, 'neuron': 0, 'value': 1}, {'x': 100.0, 'y': 380.0, 'layer': 0, 'neuron': 1, 'value': 1}, {'x': 300.0, 'y': 50.0, 'layer': 1, 'neuron': 0, 'value': 1}, {'x': 300.0, 'y': 240.0, 'layer': 1, 'neuron': 1, 'value': 1}, {'x': 300.0, 'y': 430.0, 'layer': 1, 'neuron': 2, 'value': 1}, {'x': 500.0, 'y': 240.0, 'layer': 2, 'neuron': 0, 'value': 1}]"
   ]
  },
  {
   "cell_type": "code",
   "execution_count": 11,
   "metadata": {
    "collapsed": false,
    "deletable": true,
    "editable": true
   },
   "outputs": [],
   "source": [
    "def update_coordinate_values(layers, coords):\n",
    "    for i in range(len(layers)):\n",
    "        layer = layers[i]\n",
    "        for item in coords:\n",
    "            for j, element in enumerate(layer):\n",
    "                if item['layer'] == i and item['neuron'] == j:\n",
    "                    item['value'] = element\n",
    "    return coords\n",
    "                \n",
    "            "
   ]
  },
  {
   "cell_type": "code",
   "execution_count": 1,
   "metadata": {
    "collapsed": true,
    "deletable": true,
    "editable": true
   },
   "outputs": [],
   "source": [
    "weights = {'input_to_hidden': [{'value': 1.0, 'coordinates': (0, 0)}, {'value': 1.0, 'coordinates': (0, 1)}, {'value': 1.0, 'coordinates': (0, 2)}, {'value': 1.0, 'coordinates': (0, 3)}, {'value': 1.0, 'coordinates': (1, 0)}, {'value': 1.0, 'coordinates': (1, 1)}, {'value': 1.0, 'coordinates': (1, 2)}, {'value': 1.0, 'coordinates': (1, 3)}, {'value': 1.0, 'coordinates': (2, 0)}, {'value': 1.0, 'coordinates': (2, 1)}, {'value': 1.0, 'coordinates': (2, 2)}, {'value': 1.0, 'coordinates': (2, 3)}], 'hidden_to_output': [{'value': 1.0, 'coordinates': (0, 0)}, {'value': 1.0, 'coordinates': (1, 0)}, {'value': 1.0, 'coordinates': (2, 0)}, {'value': 1.0, 'coordinates': (3, 0)}]}\n",
    "weight_values = [[[1.0515391595736467, 0.8503918771900958, 0.5, 1.0699292256770176], [1.3588478604399405, 1.5, 0.7768058251726238, 0.8472225736044412], [1.3201581086628709, 0.8612430866281321, 0.699516726082643, 1.3564018749974078]], [[0.5], [0.8793001071496724], [0.7701922712827398], [1.5]]]"
   ]
  },
  {
   "cell_type": "code",
   "execution_count": 2,
   "metadata": {
    "collapsed": false,
    "deletable": true,
    "editable": true
   },
   "outputs": [
    {
     "data": {
      "text/plain": [
       "[[1.0515391595736467, 0.8503918771900958, 0.5, 1.0699292256770176],\n",
       " [1.3588478604399405, 1.5, 0.7768058251726238, 0.8472225736044412],\n",
       " [1.3201581086628709,\n",
       "  0.8612430866281321,\n",
       "  0.699516726082643,\n",
       "  1.3564018749974078]]"
      ]
     },
     "execution_count": 2,
     "metadata": {},
     "output_type": "execute_result"
    }
   ],
   "source": [
    "weight_values[0]"
   ]
  },
  {
   "cell_type": "code",
   "execution_count": 3,
   "metadata": {
    "collapsed": false,
    "deletable": true,
    "editable": true
   },
   "outputs": [
    {
     "data": {
      "text/plain": [
       "[[{'coordinates': (0, 0), 'value': 1.0},\n",
       "  {'coordinates': (0, 1), 'value': 1.0},\n",
       "  {'coordinates': (0, 2), 'value': 1.0},\n",
       "  {'coordinates': (0, 3), 'value': 1.0},\n",
       "  {'coordinates': (1, 0), 'value': 1.0},\n",
       "  {'coordinates': (1, 1), 'value': 1.0},\n",
       "  {'coordinates': (1, 2), 'value': 1.0},\n",
       "  {'coordinates': (1, 3), 'value': 1.0},\n",
       "  {'coordinates': (2, 0), 'value': 1.0},\n",
       "  {'coordinates': (2, 1), 'value': 1.0},\n",
       "  {'coordinates': (2, 2), 'value': 1.0},\n",
       "  {'coordinates': (2, 3), 'value': 1.0}],\n",
       " [{'coordinates': (0, 0), 'value': 1.0},\n",
       "  {'coordinates': (1, 0), 'value': 1.0},\n",
       "  {'coordinates': (2, 0), 'value': 1.0},\n",
       "  {'coordinates': (3, 0), 'value': 1.0}]]"
      ]
     },
     "execution_count": 3,
     "metadata": {},
     "output_type": "execute_result"
    }
   ],
   "source": [
    "weights_new = [0, 0]\n",
    "weights_new[0] = weights['input_to_hidden']\n",
    "weights_new[1] = weights['hidden_to_output']\n",
    "weights_new"
   ]
  },
  {
   "cell_type": "code",
   "execution_count": 5,
   "metadata": {
    "collapsed": false,
    "deletable": true,
    "editable": true
   },
   "outputs": [
    {
     "data": {
      "text/plain": [
       "[[[1.0515391595736467, 0.8503918771900958, 0.5, 1.0699292256770176],\n",
       "  [1.3588478604399405, 1.5, 0.7768058251726238, 0.8472225736044412],\n",
       "  [1.3201581086628709,\n",
       "   0.8612430866281321,\n",
       "   0.699516726082643,\n",
       "   1.3564018749974078]],\n",
       " [[0.5], [0.8793001071496724], [0.7701922712827398], [1.5]]]"
      ]
     },
     "execution_count": 5,
     "metadata": {},
     "output_type": "execute_result"
    }
   ],
   "source": [
    "weight_values"
   ]
  },
  {
   "cell_type": "code",
   "execution_count": 13,
   "metadata": {
    "collapsed": false,
    "deletable": true,
    "editable": true
   },
   "outputs": [],
   "source": [
    "def update_weight_values(weights, weight_values):\n",
    "    for k in range(len(weights)):\n",
    "        for i, weight_col in enumerate(weight_values[k]):\n",
    "            for j, weight_val in enumerate(weight_col):\n",
    "                for el in weights[k]:\n",
    "#                     print(el)\n",
    "                    if el['coordinates'][0] == i and el['coordinates'][1] == j:\n",
    "                        el['value'] = weight_val\n",
    "    return weights"
   ]
  },
  {
   "cell_type": "code",
   "execution_count": 14,
   "metadata": {
    "collapsed": false,
    "deletable": true,
    "editable": true
   },
   "outputs": [
    {
     "data": {
      "text/plain": [
       "[[{'coordinates': (0, 0), 'value': 1.0515391595736467},\n",
       "  {'coordinates': (0, 1), 'value': 0.8503918771900958},\n",
       "  {'coordinates': (0, 2), 'value': 0.5},\n",
       "  {'coordinates': (0, 3), 'value': 1.0699292256770176},\n",
       "  {'coordinates': (1, 0), 'value': 1.3588478604399405},\n",
       "  {'coordinates': (1, 1), 'value': 1.5},\n",
       "  {'coordinates': (1, 2), 'value': 0.7768058251726238},\n",
       "  {'coordinates': (1, 3), 'value': 0.8472225736044412},\n",
       "  {'coordinates': (2, 0), 'value': 1.3201581086628709},\n",
       "  {'coordinates': (2, 1), 'value': 0.8612430866281321},\n",
       "  {'coordinates': (2, 2), 'value': 0.699516726082643},\n",
       "  {'coordinates': (2, 3), 'value': 1.3564018749974078}],\n",
       " [{'coordinates': (0, 0), 'value': 0.5},\n",
       "  {'coordinates': (1, 0), 'value': 0.8793001071496724},\n",
       "  {'coordinates': (2, 0), 'value': 0.7701922712827398},\n",
       "  {'coordinates': (3, 0), 'value': 1.5}]]"
      ]
     },
     "execution_count": 14,
     "metadata": {},
     "output_type": "execute_result"
    }
   ],
   "source": [
    "update_weight_values(weights_new, weight_values)"
   ]
  },
  {
   "cell_type": "code",
   "execution_count": 16,
   "metadata": {
    "collapsed": false,
    "deletable": true,
    "editable": true
   },
   "outputs": [
    {
     "data": {
      "text/plain": [
       "[[{'coordinates': (0, 0), 'value': 1.0},\n",
       "  {'coordinates': (0, 1), 'value': 1.0},\n",
       "  {'coordinates': (0, 2), 'value': 1.0},\n",
       "  {'coordinates': (0, 3), 'value': 1.0},\n",
       "  {'coordinates': (1, 0), 'value': 1.0},\n",
       "  {'coordinates': (1, 1), 'value': 1.0},\n",
       "  {'coordinates': (1, 2), 'value': 1.0},\n",
       "  {'coordinates': (1, 3), 'value': 1.0},\n",
       "  {'coordinates': (2, 0), 'value': 1.0},\n",
       "  {'coordinates': (2, 1), 'value': 1.0},\n",
       "  {'coordinates': (2, 2), 'value': 1.0},\n",
       "  {'coordinates': (2, 3), 'value': 1.0}],\n",
       " [{'coordinates': (0, 0), 'value': 1.0},\n",
       "  {'coordinates': (1, 0), 'value': 1.0},\n",
       "  {'coordinates': (2, 0), 'value': 1.0},\n",
       "  {'coordinates': (3, 0), 'value': 1.0}]]"
      ]
     },
     "execution_count": 16,
     "metadata": {},
     "output_type": "execute_result"
    }
   ],
   "source": [
    "def update_weight_values(weights, weight_values):weights_new"
   ]
  },
  {
   "cell_type": "code",
   "execution_count": 1,
   "metadata": {
    "collapsed": true,
    "deletable": true,
    "editable": true
   },
   "outputs": [],
   "source": [
    "def update_coordinate_values(layers, coords):\n",
    "    for i in range(len(layers)):\n",
    "        layer = layers[i]\n",
    "        for item in coords:\n",
    "            for j, element in enumerate(layer):\n",
    "                if item['layer'] == i and item['neuron'] == j:\n",
    "                    item['value'] = element\n",
    "    return coords"
   ]
  },
  {
   "cell_type": "code",
   "execution_count": 3,
   "metadata": {
    "collapsed": false,
    "deletable": true,
    "editable": true
   },
   "outputs": [],
   "source": [
    "layers = [[10.0, 20.0], [10.0, 20.0, 12.901], [15.0]]\n",
    "coords = [[{'x': 100.0, 'y': 100.0, 'layer': 0, 'neuron': 0, 'value': 1}, {'x': 100.0, 'y': 380.0, 'layer': 0, 'neuron': 1, 'value': 1}], [{'x': 300.0, 'y': 50.0, 'layer': 1, 'neuron': 0, 'value': 1}, {'x': 300.0, 'y': 240.0, 'layer': 1, 'neuron': 1, 'value': 1}, {'x': 300.0, 'y': 430.0, 'layer': 1, 'neuron': 2, 'value': 1}], {'x': 500.0, 'y': 240.0, 'layer': 2, 'neuron': 0, 'value': 1}]"
   ]
  },
  {
   "cell_type": "code",
   "execution_count": 5,
   "metadata": {
    "collapsed": false,
    "deletable": true,
    "editable": true
   },
   "outputs": [
    {
     "data": {
      "text/plain": [
       "[{'layer': 0, 'neuron': 0, 'value': 1, 'x': 100.0, 'y': 100.0},\n",
       " {'layer': 0, 'neuron': 1, 'value': 1, 'x': 100.0, 'y': 380.0}]"
      ]
     },
     "execution_count": 5,
     "metadata": {},
     "output_type": "execute_result"
    }
   ],
   "source": [
    "coords[0]"
   ]
  },
  {
   "cell_type": "code",
   "execution_count": 4,
   "metadata": {
    "collapsed": false,
    "deletable": true,
    "editable": true
   },
   "outputs": [
    {
     "ename": "TypeError",
     "evalue": "list indices must be integers or slices, not str",
     "output_type": "error",
     "traceback": [
      "\u001b[0;31m---------------------------------------------------------------------------\u001b[0m",
      "\u001b[0;31mTypeError\u001b[0m                                 Traceback (most recent call last)",
      "\u001b[0;32m<ipython-input-4-99f425b4e1d5>\u001b[0m in \u001b[0;36m<module>\u001b[0;34m()\u001b[0m\n\u001b[0;32m----> 1\u001b[0;31m \u001b[0mupdate_coordinate_values\u001b[0m\u001b[0;34m(\u001b[0m\u001b[0mlayers\u001b[0m\u001b[0;34m,\u001b[0m \u001b[0mcoords\u001b[0m\u001b[0;34m)\u001b[0m\u001b[0;34m\u001b[0m\u001b[0m\n\u001b[0m",
      "\u001b[0;32m<ipython-input-1-53cbd822b61d>\u001b[0m in \u001b[0;36mupdate_coordinate_values\u001b[0;34m(layers, coords)\u001b[0m\n\u001b[1;32m      4\u001b[0m         \u001b[0;32mfor\u001b[0m \u001b[0mitem\u001b[0m \u001b[0;32min\u001b[0m \u001b[0mcoords\u001b[0m\u001b[0;34m:\u001b[0m\u001b[0;34m\u001b[0m\u001b[0m\n\u001b[1;32m      5\u001b[0m             \u001b[0;32mfor\u001b[0m \u001b[0mj\u001b[0m\u001b[0;34m,\u001b[0m \u001b[0melement\u001b[0m \u001b[0;32min\u001b[0m \u001b[0menumerate\u001b[0m\u001b[0;34m(\u001b[0m\u001b[0mlayer\u001b[0m\u001b[0;34m)\u001b[0m\u001b[0;34m:\u001b[0m\u001b[0;34m\u001b[0m\u001b[0m\n\u001b[0;32m----> 6\u001b[0;31m                 \u001b[0;32mif\u001b[0m \u001b[0mitem\u001b[0m\u001b[0;34m[\u001b[0m\u001b[0;34m'layer'\u001b[0m\u001b[0;34m]\u001b[0m \u001b[0;34m==\u001b[0m \u001b[0mi\u001b[0m \u001b[0;32mand\u001b[0m \u001b[0mitem\u001b[0m\u001b[0;34m[\u001b[0m\u001b[0;34m'neuron'\u001b[0m\u001b[0;34m]\u001b[0m \u001b[0;34m==\u001b[0m \u001b[0mj\u001b[0m\u001b[0;34m:\u001b[0m\u001b[0;34m\u001b[0m\u001b[0m\n\u001b[0m\u001b[1;32m      7\u001b[0m                     \u001b[0mitem\u001b[0m\u001b[0;34m[\u001b[0m\u001b[0;34m'value'\u001b[0m\u001b[0;34m]\u001b[0m \u001b[0;34m=\u001b[0m \u001b[0melement\u001b[0m\u001b[0;34m\u001b[0m\u001b[0m\n\u001b[1;32m      8\u001b[0m     \u001b[0;32mreturn\u001b[0m \u001b[0mcoords\u001b[0m\u001b[0;34m\u001b[0m\u001b[0m\n",
      "\u001b[0;31mTypeError\u001b[0m: list indices must be integers or slices, not str"
     ]
    }
   ],
   "source": [
    "update_coordinate_values(layers, coords)"
   ]
  },
  {
   "cell_type": "code",
   "execution_count": 5,
   "metadata": {
    "collapsed": false,
    "deletable": true,
    "editable": true
   },
   "outputs": [],
   "source": [
    "import numpy as np\n",
    "a = np.float64(15.0)"
   ]
  },
  {
   "cell_type": "code",
   "execution_count": 10,
   "metadata": {
    "collapsed": false,
    "deletable": true,
    "editable": true
   },
   "outputs": [
    {
     "data": {
      "text/plain": [
       "True"
      ]
     },
     "execution_count": 10,
     "metadata": {},
     "output_type": "execute_result"
    }
   ],
   "source": [
    "type(a) == np.float64"
   ]
  },
  {
   "cell_type": "markdown",
   "metadata": {
    "collapsed": true,
    "deletable": true,
    "editable": true
   },
   "source": [
    "## Shelve"
   ]
  },
  {
   "cell_type": "code",
   "execution_count": 1,
   "metadata": {
    "collapsed": true
   },
   "outputs": [],
   "source": [
    "import shelve"
   ]
  },
  {
   "cell_type": "code",
   "execution_count": 5,
   "metadata": {
    "collapsed": true
   },
   "outputs": [],
   "source": [
    "with shelve.open('spam') as db:\n",
    "    db['eggs'] = 'eggs'"
   ]
  },
  {
   "cell_type": "code",
   "execution_count": 7,
   "metadata": {
    "collapsed": false
   },
   "outputs": [
    {
     "name": "stdout",
     "output_type": "stream",
     "text": [
      "eggs\n"
     ]
    }
   ],
   "source": [
    "with shelve.open('spam') as db:\n",
    "    print(db['eggs'])"
   ]
  },
  {
   "cell_type": "code",
   "execution_count": null,
   "metadata": {
    "collapsed": true
   },
   "outputs": [],
   "source": []
  }
 ],
 "metadata": {
  "kernelspec": {
   "display_name": "Python 3",
   "language": "python",
   "name": "python3"
  },
  "language_info": {
   "codemirror_mode": {
    "name": "ipython",
    "version": 3
   },
   "file_extension": ".py",
   "mimetype": "text/x-python",
   "name": "python",
   "nbconvert_exporter": "python",
   "pygments_lexer": "ipython3",
   "version": "3.6.2"
  },
  "toc": {
   "colors": {
    "hover_highlight": "#DAA520",
    "running_highlight": "#FF0000",
    "selected_highlight": "#FFD700"
   },
   "moveMenuLeft": true,
   "nav_menu": {
    "height": "12px",
    "width": "252px"
   },
   "navigate_menu": true,
   "number_sections": true,
   "sideBar": true,
   "threshold": 4,
   "toc_cell": false,
   "toc_section_display": "block",
   "toc_window_display": false,
   "widenNotebook": false
  }
 },
 "nbformat": 4,
 "nbformat_minor": 2
}
