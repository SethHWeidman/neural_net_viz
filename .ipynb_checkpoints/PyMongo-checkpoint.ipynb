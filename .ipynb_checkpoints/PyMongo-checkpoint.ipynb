{
 "cells": [
  {
   "cell_type": "code",
   "execution_count": 2,
   "metadata": {
    "collapsed": false
   },
   "outputs": [
    {
     "name": "stdout",
     "output_type": "stream",
     "text": [
      "Collecting pymongo\n",
      "  Downloading pymongo-3.5.0-cp36-cp36m-macosx_10_6_intel.whl (300kB)\n",
      "\u001b[K    100% |████████████████████████████████| 307kB 1.4MB/s ta 0:00:01\n",
      "\u001b[?25hInstalling collected packages: pymongo\n",
      "Successfully installed pymongo-3.5.0\n"
     ]
    }
   ],
   "source": [
    "!python3 -m pip install pymongo"
   ]
  },
  {
   "cell_type": "code",
   "execution_count": 73,
   "metadata": {
    "collapsed": true
   },
   "outputs": [],
   "source": [
    "json_blob = {\"viz_key\": \"data\", \"value\": {'x': 1, 'y':2}}"
   ]
  },
  {
   "cell_type": "code",
   "execution_count": 74,
   "metadata": {
    "collapsed": false
   },
   "outputs": [
    {
     "data": {
      "text/plain": [
       "\"{'viz_key': 'data', 'value': {'x': 1, 'y': 2}}\""
      ]
     },
     "execution_count": 74,
     "metadata": {},
     "output_type": "execute_result"
    }
   ],
   "source": [
    "str(json_blob)"
   ]
  },
  {
   "cell_type": "code",
   "execution_count": 88,
   "metadata": {
    "collapsed": true
   },
   "outputs": [],
   "source": [
    "def get_data(key):\n",
    "    \"\"\"Return all posts from the 'database', most recent first.\"\"\"\n",
    "    client = MongoClient()\n",
    "    db = client.viz_db\n",
    "    c = db.cursor()\n",
    "    collection_name = \"viz_coll\"\n",
    "    for document in db[collection_name].find({\"viz_key\": key}):\n",
    "        output = document['value']\n",
    "    client.close()\n",
    "    return output\n",
    "\n",
    "def update_key(key, value):\n",
    "    \"\"\"Return all posts from the 'database', most recent first.\"\"\"\n",
    "    client = MongoClient()\n",
    "    db = client.viz_db\n",
    "    c = db.cursor()\n",
    "    collection_name = \"viz_coll\"\n",
    "\n",
    "    new_json = {\"viz_key\": key, \"value\": value}\n",
    "    db.command(\"update\", collection_name,\n",
    "             updates=[{'q': {'viz_key': key},\n",
    "                       'u': new_json}])\n",
    "\n",
    "    for document in db[collection_name].find({\"viz_key\": thing_to_find}):\n",
    "        output = document['value']\n",
    "\n",
    "    client.close()\n",
    "    return output\n",
    "\n",
    "def delete_key(key):\n",
    "    \"\"\"Return all posts from the 'database', most recent first.\"\"\"\n",
    "    client = MongoClient()\n",
    "    db = client.viz_db\n",
    "    c = db.cursor()\n",
    "    collection_name = \"viz_coll\"\n",
    "\n",
    "    db.command(\"delete\", collection_name,\n",
    "              deletes=[{'q': {'viz_key': key}}])\n",
    "\n",
    "    client.close()\n",
    "    return output"
   ]
  },
  {
   "cell_type": "code",
   "execution_count": null,
   "metadata": {
    "collapsed": true
   },
   "outputs": [],
   "source": []
  }
 ],
 "metadata": {
  "kernelspec": {
   "display_name": "Python 3",
   "language": "python",
   "name": "python3"
  },
  "language_info": {
   "codemirror_mode": {
    "name": "ipython",
    "version": 3
   },
   "file_extension": ".py",
   "mimetype": "text/x-python",
   "name": "python",
   "nbconvert_exporter": "python",
   "pygments_lexer": "ipython3",
   "version": "3.6.2"
  },
  "toc": {
   "colors": {
    "hover_highlight": "#DAA520",
    "running_highlight": "#FF0000",
    "selected_highlight": "#FFD700"
   },
   "moveMenuLeft": true,
   "nav_menu": {
    "height": "12px",
    "width": "252px"
   },
   "navigate_menu": true,
   "number_sections": true,
   "sideBar": true,
   "threshold": 4,
   "toc_cell": false,
   "toc_section_display": "block",
   "toc_window_display": false,
   "widenNotebook": false
  }
 },
 "nbformat": 4,
 "nbformat_minor": 2
}
