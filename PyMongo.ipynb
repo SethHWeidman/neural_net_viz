{
 "cells": [
  {
   "cell_type": "code",
   "execution_count": 2,
   "metadata": {
    "collapsed": true,
    "deletable": true,
    "editable": true
   },
   "outputs": [],
   "source": [
    "from pymongo import MongoClient"
   ]
  },
  {
   "cell_type": "code",
   "execution_count": 3,
   "metadata": {
    "collapsed": false,
    "deletable": true,
    "editable": true
   },
   "outputs": [
    {
     "data": {
      "text/plain": [
       "Database(MongoClient(host=['localhost:27017'], document_class=dict, tz_aware=False, connect=True), 'viz_db')"
      ]
     },
     "execution_count": 3,
     "metadata": {},
     "output_type": "execute_result"
    }
   ],
   "source": [
    "client = MongoClient()\n",
    "db = client['viz_db']\n",
    "db"
   ]
  },
  {
   "cell_type": "code",
   "execution_count": 16,
   "metadata": {
    "collapsed": false,
    "deletable": true,
    "editable": true
   },
   "outputs": [],
   "source": [
    "def find_all_docs():\n",
    "    \"\"\"Return all posts from the 'database', most recent first.\"\"\"\n",
    "    client = MongoClient()\n",
    "    db = client.viz_db\n",
    "    collection_name = \"viz_coll\"\n",
    "    for document in db[collection_name].find():\n",
    "        print(document)\n",
    "    client.close()\n",
    "    return None\n",
    "\n",
    "def find_key(key):\n",
    "    \"\"\"Return all posts from the 'database', most recent first.\"\"\"\n",
    "    client = MongoClient()\n",
    "    db = client.viz_db\n",
    "    collection_name = \"viz_coll\"\n",
    "    for document in db[collection_name].find({\"viz_key\": key}):\n",
    "        output = document['value']\n",
    "    client.close()\n",
    "    return output\n",
    "\n",
    "def add_key(key, value):\n",
    "    \"\"\"Return all posts from the 'database', most recent first.\"\"\"\n",
    "    client = MongoClient()\n",
    "    db = client.viz_db\n",
    "    collection_name = \"viz_coll\"\n",
    "\n",
    "    new_json = {\"viz_key\": key, \"value\": value}\n",
    "    db.command(\"insert\", collection_name,\n",
    "               documents=[new_json])\n",
    "\n",
    "    client.close()\n",
    "    return None\n",
    "\n",
    "def update_key(key, value):\n",
    "    \"\"\"Return all posts from the 'database', most recent first.\"\"\"\n",
    "    client = MongoClient()\n",
    "    db = client.viz_db\n",
    "    collection_name = \"viz_coll\"\n",
    "\n",
    "    new_json = {\"viz_key\": key, \"value\": value}\n",
    "    db.command(\"update\", collection_name,\n",
    "             updates=[{'q': {'viz_key': key},\n",
    "                       'u': new_json}])\n",
    "\n",
    "    client.close()\n",
    "    return True\n",
    "\n",
    "def delete_key(key):\n",
    "    \"\"\"Return all posts from the 'database', most recent first.\"\"\"\n",
    "    client = MongoClient()\n",
    "    db = client.viz_db\n",
    "    collection_name = \"viz_coll\"\n",
    "\n",
    "    db.command(\"delete\", collection_name,\n",
    "              deletes=[{'q': {'viz_key': key}, 'limit': 1}])\n",
    "\n",
    "    client.close()\n",
    "    return None\n",
    "\n",
    "def delete_all_docs():\n",
    "    \"\"\"Return all posts from the 'database', most recent first.\"\"\"\n",
    "    client = MongoClient()\n",
    "    db = client.viz_db\n",
    "    db.command(\"dropDatabase\")\n",
    "    client.close()\n",
    "    return None"
   ]
  },
  {
   "cell_type": "code",
   "execution_count": 6,
   "metadata": {
    "collapsed": true,
    "deletable": true,
    "editable": true
   },
   "outputs": [],
   "source": [
    "delete_all_docs()"
   ]
  },
  {
   "cell_type": "code",
   "execution_count": 7,
   "metadata": {
    "collapsed": false,
    "deletable": true,
    "editable": true
   },
   "outputs": [],
   "source": [
    "find_all_docs()"
   ]
  },
  {
   "cell_type": "code",
   "execution_count": 8,
   "metadata": {
    "collapsed": false,
    "deletable": true,
    "editable": true
   },
   "outputs": [
    {
     "name": "stdout",
     "output_type": "stream",
     "text": [
      "{'_id': ObjectId('59983f2cd8b4f4417ab54fbd'), 'viz_key': 'data', 'value': {'height': 480, 'width': 600}}\n"
     ]
    }
   ],
   "source": [
    "add_key('data', {'height': 480, 'width': 600})\n",
    "find_all_docs()"
   ]
  },
  {
   "cell_type": "code",
   "execution_count": 9,
   "metadata": {
    "collapsed": false,
    "deletable": true,
    "editable": true
   },
   "outputs": [
    {
     "name": "stdout",
     "output_type": "stream",
     "text": [
      "{'_id': ObjectId('59983f2cd8b4f4417ab54fbd'), 'viz_key': 'data', 'value': {'height': 480, 'width': 720}}\n"
     ]
    }
   ],
   "source": [
    "update_key('data', {'height': 480, 'width': 720})\n",
    "find_all_docs()"
   ]
  },
  {
   "cell_type": "code",
   "execution_count": 17,
   "metadata": {
    "collapsed": false,
    "deletable": true,
    "editable": true
   },
   "outputs": [],
   "source": [
    "delete_key('data')\n",
    "find_all_docs()"
   ]
  },
  {
   "cell_type": "code",
   "execution_count": 18,
   "metadata": {
    "collapsed": false,
    "deletable": true,
    "editable": true
   },
   "outputs": [],
   "source": [
    "find_all_docs()"
   ]
  },
  {
   "cell_type": "code",
   "execution_count": 19,
   "metadata": {
    "collapsed": true,
    "deletable": true,
    "editable": true
   },
   "outputs": [],
   "source": [
    "num_input=3\n",
    "num_hidden=4\n",
    "height=400\n",
    "width=600"
   ]
  },
  {
   "cell_type": "code",
   "execution_count": 21,
   "metadata": {
    "collapsed": false,
    "deletable": true,
    "editable": true
   },
   "outputs": [],
   "source": [
    "\n",
    "input_height_margin = 100\n",
    "hidden_height_margin = 50\n",
    "width_margin = 100\n",
    "\n",
    "xs = np.linspace(width_margin, width - width_margin, 3)\n",
    "input_x = xs[0]\n",
    "hidden_x = xs[1]\n",
    "output_x = xs[2]\n",
    "\n",
    "input_ys = np.linspace(input_height_margin,\n",
    "                       height - input_height_margin,\n",
    "                       num_input)\n",
    "hidden_ys = np.linspace(hidden_height_margin,\n",
    "                        height - hidden_height_margin,\n",
    "                        num_hidden)\n",
    "\n",
    "output_y = height / 2.0\n",
    "\n",
    "input_neurons = [{'x': input_x, 'y': y, 'layer': 0, 'neuron': i} for i, y in enumerate(input_ys)]\n",
    "hidden_neurons = [{'x': hidden_x, 'y': y} for y in hidden_ys]\n",
    "output_neuron = [{'x': output_x, 'y': output_y}]\n",
    "\n",
    "all_neurons = input_neurons + hidden_neurons + output_neuron\n"
   ]
  },
  {
   "cell_type": "code",
   "execution_count": 22,
   "metadata": {
    "collapsed": false,
    "deletable": true,
    "editable": true
   },
   "outputs": [
    {
     "data": {
      "text/plain": [
       "[{'layer': 0, 'neuron': 0, 'x': 100.0, 'y': 100.0},\n",
       " {'layer': 0, 'neuron': 1, 'x': 100.0, 'y': 200.0},\n",
       " {'layer': 0, 'neuron': 2, 'x': 100.0, 'y': 300.0}]"
      ]
     },
     "execution_count": 22,
     "metadata": {},
     "output_type": "execute_result"
    }
   ],
   "source": [
    "input_neurons"
   ]
  },
  {
   "cell_type": "code",
   "execution_count": 27,
   "metadata": {
    "collapsed": false,
    "deletable": true,
    "editable": true
   },
   "outputs": [
    {
     "data": {
      "text/plain": [
       "[(0, 0),\n",
       " (0, 1),\n",
       " (0, 2),\n",
       " (0, 3),\n",
       " (1, 0),\n",
       " (1, 1),\n",
       " (1, 2),\n",
       " (1, 3),\n",
       " (2, 0),\n",
       " (2, 1),\n",
       " (2, 2),\n",
       " (2, 3)]"
      ]
     },
     "execution_count": 27,
     "metadata": {},
     "output_type": "execute_result"
    }
   ],
   "source": [
    "import itertools\n",
    "weight_matrix_1 = np.ones(num_input * num_hidden)\n",
    "list_of_weights = list(itertools.product(range(3), range(4)))\n",
    "list_of_weights"
   ]
  },
  {
   "cell_type": "code",
   "execution_count": 29,
   "metadata": {
    "collapsed": false
   },
   "outputs": [
    {
     "data": {
      "text/plain": [
       "[{'coordinates': (0, 0), 'value': 1.0},\n",
       " {'coordinates': (0, 1), 'value': 1.0},\n",
       " {'coordinates': (0, 2), 'value': 1.0},\n",
       " {'coordinates': (0, 3), 'value': 1.0},\n",
       " {'coordinates': (1, 0), 'value': 1.0},\n",
       " {'coordinates': (1, 1), 'value': 1.0},\n",
       " {'coordinates': (1, 2), 'value': 1.0},\n",
       " {'coordinates': (1, 3), 'value': 1.0},\n",
       " {'coordinates': (2, 0), 'value': 1.0},\n",
       " {'coordinates': (2, 1), 'value': 1.0},\n",
       " {'coordinates': (2, 2), 'value': 1.0},\n",
       " {'coordinates': (2, 3), 'value': 1.0}]"
      ]
     },
     "execution_count": 29,
     "metadata": {},
     "output_type": "execute_result"
    }
   ],
   "source": [
    "weights = []\n",
    "for el1, el2 in zip(weight_matrix_1, list_of_weights):\n",
    "    d = {'value': el1, 'coordinates': el2}\n",
    "    weights.append(d)\n",
    "weights"
   ]
  },
  {
   "cell_type": "code",
   "execution_count": null,
   "metadata": {
    "collapsed": true
   },
   "outputs": [],
   "source": []
  }
 ],
 "metadata": {
  "kernelspec": {
   "display_name": "Python 3",
   "language": "python",
   "name": "python3"
  },
  "language_info": {
   "codemirror_mode": {
    "name": "ipython",
    "version": 3
   },
   "file_extension": ".py",
   "mimetype": "text/x-python",
   "name": "python",
   "nbconvert_exporter": "python",
   "pygments_lexer": "ipython3",
   "version": "3.6.2"
  },
  "toc": {
   "colors": {
    "hover_highlight": "#DAA520",
    "running_highlight": "#FF0000",
    "selected_highlight": "#FFD700"
   },
   "moveMenuLeft": true,
   "nav_menu": {
    "height": "12px",
    "width": "252px"
   },
   "navigate_menu": true,
   "number_sections": true,
   "sideBar": true,
   "threshold": 4,
   "toc_cell": false,
   "toc_section_display": "block",
   "toc_window_display": false,
   "widenNotebook": false
  }
 },
 "nbformat": 4,
 "nbformat_minor": 2
}
